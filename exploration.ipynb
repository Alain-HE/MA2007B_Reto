{
 "cells": [
  {
   "cell_type": "markdown",
   "metadata": {},
   "source": [
    "# Librerías"
   ]
  },
  {
   "cell_type": "code",
   "execution_count": 1,
   "metadata": {},
   "outputs": [],
   "source": [
    "import pandas as pd\n",
    "import numpy as np\n",
    "import matplotlib.pyplot as plt\n",
    "import json"
   ]
  },
  {
   "cell_type": "markdown",
   "metadata": {},
   "source": [
    "# Diccionario"
   ]
  },
  {
   "cell_type": "code",
   "execution_count": 32,
   "metadata": {},
   "outputs": [
    {
     "name": "stdout",
     "output_type": "stream",
     "text": [
      "El diccionario ha sido guardado en ./processed_files/diccionario_secciones.json\n"
     ]
    }
   ],
   "source": [
    "import pandas as pd\n",
    "\n",
    "# Leer el archivo Excel\n",
    "df_diccionarios = pd.read_excel('./files/envi_2020_fd.xlsx')\n",
    "\n",
    "# Inicializar el diccionario para almacenar las secciones y preguntas\n",
    "diccionario_secciones = {}\n",
    "seccion_actual = None\n",
    "\n",
    "# Recorrer el DataFrame fila por fila\n",
    "for index, row in df_diccionarios.iterrows():\n",
    "    # Identificar las filas que contienen 'SECCIÓN'\n",
    "    if isinstance(row[1], str) and 'SECCIÓN' in row[1]:\n",
    "        seccion_actual = row[1].strip()\n",
    "        diccionario_secciones[seccion_actual] = []\n",
    "    # Si estamos dentro de una sección, añadir las preguntas y nemónicos, excluyendo los encabezados y [1] y [2]\n",
    "    elif seccion_actual and isinstance(row[1], str) and row[1].strip() not in [\"Pregunta\", \"Nemónico\", \"[1]\", \"[2]\"]:\n",
    "        pregunta = row[1].strip() if isinstance(row[1], str) else ''\n",
    "        nemonico = row[2].strip() if isinstance(row[2], str) else ''\n",
    "        if pregunta and nemonico:\n",
    "            diccionario_secciones[seccion_actual].append((pregunta, nemonico))\n",
    "\n",
    "# Guardar el diccionario en un archivo JSON\n",
    "output_file = './processed_files/diccionario_secciones.json'\n",
    "with open(output_file, 'w', encoding='utf-8') as f:\n",
    "    json.dump(diccionario_secciones, f, ensure_ascii=False, indent=4)\n",
    "\n",
    "print(f\"El diccionario ha sido guardado en {output_file}\")\n"
   ]
  },
  {
   "cell_type": "markdown",
   "metadata": {},
   "source": [
    "---"
   ]
  },
  {
   "cell_type": "markdown",
   "metadata": {},
   "source": [
    "# Archivos importantes"
   ]
  },
  {
   "cell_type": "code",
   "execution_count": 8,
   "metadata": {},
   "outputs": [],
   "source": [
    "# Ruta archivos\n",
    "ruta = './files/envi_2020_base_de_datos_csv/Bases de datos'\n",
    "# Archivos\n",
    "df_TVIVIENDA = pd.read_csv(ruta + '/TVIVIENDA.csv')\n",
    "df_TSDEM = pd.read_csv(ruta + '/TSDEM.csv')\n",
    "df_TVIVIENDA.head()"
   ]
  }
 ],
 "metadata": {
  "kernelspec": {
   "display_name": "Python 3",
   "language": "python",
   "name": "python3"
  },
  "language_info": {
   "codemirror_mode": {
    "name": "ipython",
    "version": 3
   },
   "file_extension": ".py",
   "mimetype": "text/x-python",
   "name": "python",
   "nbconvert_exporter": "python",
   "pygments_lexer": "ipython3",
   "version": "3.11.2"
  }
 },
 "nbformat": 4,
 "nbformat_minor": 2
}
